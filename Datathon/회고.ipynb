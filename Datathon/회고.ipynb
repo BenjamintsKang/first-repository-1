{
  "nbformat": 4,
  "nbformat_minor": 0,
  "metadata": {
    "colab": {
      "provenance": []
    },
    "kernelspec": {
      "name": "python3",
      "display_name": "Python 3"
    },
    "language_info": {
      "name": "python"
    }
  },
  "cells": [
    {
      "cell_type": "markdown",
      "metadata": {
        "id": "view-in-github"
      },
      "source": [
        "<a href=\"https://colab.research.google.com/github/xunzxe/first-repository/blob/master/Datathon/%ED%9A%8C%EA%B3%A0.ipynb\" target=\"_parent\"><img src=\"https://colab.research.google.com/assets/colab-badge.svg\" alt=\"Open In Colab\"/></a>"
      ]
    },
    {
      "cell_type": "markdown",
      "source": [
        "#**회고**\n",
        "- 서은재 : 배운 걸 적용해서 직접 원하는 대로 데이터분석을 해볼 수 있어서 재밌었다. 그 과정에서 뜻대로 되지 않거나 어떻게 해야할지 막막했던 순간들이 있었는데, 헤쳐 나가는 경험을 할 수 있었다. 팀원들과 함께 데이터 분석한 것을 연결하는 과정도 재밌었다.\n",
        "\n",
        "-김동규\n",
        "배우고 느낀 것은 많지만 막상 적으려니 표현하기가 어렵습니다.\n",
        "1. 데이터의 처리는 전 과제 해결 과정에서 연속임을 몸소 느꼈습니다.\n",
        "2. 문제를 잘 정의해야 적합한 모델에 접근할 수 있음을 절감했습니다.\n",
        "3. 팀원과 저는 상보적 관계임을 다시 한 번 체감했습니다.\n",
        "4. 부족함을 느꼈지만 그것이 또 재미있었습니다. 이상입니다."
      ],
      "metadata": {
        "id": "NTRLPx8HKvn5"
      }
    }
  ]
}