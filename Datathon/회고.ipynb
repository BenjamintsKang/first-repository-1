{
  "nbformat": 4,
  "nbformat_minor": 0,
  "metadata": {
    "colab": {
      "provenance": [],
      "authorship_tag": "ABX9TyOzirK31fnl3dXkods0VsBP",
      "include_colab_link": true
    },
    "kernelspec": {
      "name": "python3",
      "display_name": "Python 3"
    },
    "language_info": {
      "name": "python"
    }
  },
  "cells": [
    {
      "cell_type": "markdown",
      "metadata": {
        "id": "view-in-github",
        "colab_type": "text"
      },
      "source": [
        "<a href=\"https://colab.research.google.com/github/xunzxe/first-repository/blob/master/Datathon/%ED%9A%8C%EA%B3%A0.ipynb\" target=\"_parent\"><img src=\"https://colab.research.google.com/assets/colab-badge.svg\" alt=\"Open In Colab\"/></a>"
      ]
    },
    {
      "cell_type": "markdown",
      "source": [
        "# 회고\n",
        "- 서은재 : 배운 걸 적용해서 직접 원하는 대로 데이터분석을 해볼 수 있어서 재밌었다. 그 과정에서 뜻대로 되지 않거나 어떻게 해야할지 막막했던 순간들이 있었는데, 헤쳐 나가는 경험을 할 수 있었다. 팀원들과 함께 데이터 분석한 것을 연결하는 과정도 재밌었다."
      ],
      "metadata": {
        "id": "NTRLPx8HKvn5"
      }
    }
  ]
}