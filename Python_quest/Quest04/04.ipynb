{
  "nbformat": 4,
  "nbformat_minor": 0,
  "metadata": {
    "colab": {
      "provenance": [],
      "toc_visible": true,
      "authorship_tag": "ABX9TyN/mJ2CHU74H+bEmG/vNPtj",
      "include_colab_link": true
    },
    "kernelspec": {
      "name": "python3",
      "display_name": "Python 3"
    },
    "language_info": {
      "name": "python"
    }
  },
  "cells": [
    {
      "cell_type": "markdown",
      "metadata": {
        "id": "view-in-github",
        "colab_type": "text"
      },
      "source": [
        "<a href=\"https://colab.research.google.com/github/xunzxe/first-repository/blob/master/Python_quest/Quest04/04.ipynb\" target=\"_parent\"><img src=\"https://colab.research.google.com/assets/colab-badge.svg\" alt=\"Open In Colab\"/></a>"
      ]
    },
    {
      "cell_type": "markdown",
      "source": [
        "# 파이썬을 사용하여 간단한 계산기 프로그램 만들기\n",
        "\n",
        "\n",
        "#### 회고\n",
        "##### 계산기 프로그램 프론트 역할을 맡았다고 생각하니 재밌었다.\n",
        "##### 에러를 만들어서 처리한 것이 신기했다.나중에 서비스 개발할 때도 예상하지 못한 에러가 뒤늦게 생각날 수도 있는데, 에러를 만들어서 예외처리를 해주면 좋겠다는 생각이 들었다.\n",
        "##### Finally 안에서도 try-except 구문을 이용해서 이중으로 처리를 할 수 있다는 것을 알게 되었다."
      ],
      "metadata": {
        "id": "ofXROCbcLQ8W"
      }
    },
    {
      "cell_type": "code",
      "execution_count": 22,
      "metadata": {
        "id": "LZJLJuEKLFDc",
        "colab": {
          "base_uri": "https://localhost:8080/"
        },
        "outputId": "9d891b3d-02aa-4b5e-b14a-cb4e46e6a758"
      },
      "outputs": [
        {
          "output_type": "stream",
          "name": "stdout",
          "text": [
            "첫 번째 정수를 입력해 주세요 : 5\n",
            "두 번째 정수를 입력해 주세요 : 4\n",
            "연산자를 입력해 주세요 : *\n",
            "계산 결과 : 20\n",
            "계속 계산하시겠습니까?(Y/N) : Y\n",
            "첫 번째 정수를 입력해 주세요 : j\n",
            "정수가 아닙니다\n",
            "잘못된 입력입니다. 정수를 입력해주세요.\n",
            "계속 계산하시겠습니까?(Y/N) : Y\n",
            "첫 번째 정수를 입력해 주세요 : 5\n",
            "두 번째 정수를 입력해 주세요 : 7\n",
            "연산자를 입력해 주세요 : *\n",
            "계산 결과 : 35\n",
            "계속 계산하시겠습니까?(Y/N) : 네\n",
            "Y 또는 N을 입력해 주세요.\n",
            "계속 계산하시겠습니까?(Y/N) : 아니오\n",
            "Y 또는 N을 입력해 주세요.\n",
            "계속 계산하시겠습니까?(Y/N) : N\n",
            "계산기가 종료됩니다.\n"
          ]
        }
      ],
      "source": [
        "import math as m # math모듈 제곱 연산 가져오기\n",
        "def calculator():\n",
        "  try:\n",
        "    # input함수 사용해서 두개의 정수와 연산자 입력받기\n",
        "    a=int(input(\"첫 번째 정수를 입력해 주세요 : \"))\n",
        "    b=int(input(\"두 번째 정수를 입력해 주세요 : \"))\n",
        "    c=input(\"연산자를 입력해 주세요 : \")\n",
        "    if c not in [\"+\",\"-\",\"*\",\"/\",\"**\"]:\n",
        "      raise Exception(\"연산자를 다시 입력해 주세요\")\n",
        "    if b == 0 and c == \"/\":\n",
        "      raise ZeroDivisionError(\"0으로 나눌 수 없습니다\")\n",
        "  except ValueError:\n",
        "    print(\"정수가 아닙니다\") # 정수가 아닌 경우 ValueError 처리\n",
        "    print(\"잘못된 입력입니다. 정수를 입력해 주세요.\") # except \"잘못\n",
        "  except ZeroDivisionError:\n",
        "    print(\"0으로 나눌 수 없습니다\") # 나눗셈 연산 시 두번째 정수가 0인 경우 ZeroDivisionError처리\n",
        "  except Exception:\n",
        "    print(\"연산자를 잘못 입력하였습니다.\") # 지원하지 않는 연산자 입력한 경우 오류 메세지 처리\n",
        "  else :\n",
        "    if c == \"+\":\n",
        "      print(\"계산 결과 :\", a + b)\n",
        "    elif c == \"-\":\n",
        "      print(\"계산 결과 :\", a - b)\n",
        "    elif c == \"/\":\n",
        "      print(\"계산 결과 :\", a / b)\n",
        "    elif c == \"*\":\n",
        "      print(\"계산 결과 :\", a * b)\n",
        "    else:\n",
        "      print(\"계산 결과 :\", m.pow(a,b))\n",
        "  finally : # finally 계속 계산할 것인지 입력받기\n",
        "    def check():\n",
        "      try :\n",
        "        d=input(\"계속 계산하시겠습니까?(Y/N) : \").upper()\n",
        "        if d == \"Y\":          # 소문자로 입력받아도 대문자로 변환되도록 코드 변경\n",
        "          calculator()\n",
        "        elif d == \"N\":\n",
        "          print(\"계산기가 종료됩니다.\")\n",
        "        else:\n",
        "          raise Exception(\"Y 또는 N을 입력해 주세요.\")\n",
        "      except Exception:\n",
        "        print(\"Y 또는 N을 입력해 주세요.\")\n",
        "        check()\n",
        "    check()\n",
        "\n",
        "calculator()\n"
      ]
    }
  ]
}