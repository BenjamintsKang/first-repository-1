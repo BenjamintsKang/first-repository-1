{
  "nbformat": 4,
  "nbformat_minor": 0,
  "metadata": {
    "colab": {
      "provenance": [],
      "authorship_tag": "ABX9TyN2NMn4e3vRoaqvZJVX/yHF",
      "include_colab_link": true
    },
    "kernelspec": {
      "name": "python3",
      "display_name": "Python 3"
    },
    "language_info": {
      "name": "python"
    }
  },
  "cells": [
    {
      "cell_type": "markdown",
      "metadata": {
        "id": "view-in-github",
        "colab_type": "text"
      },
      "source": [
        "<a href=\"https://colab.research.google.com/github/xunzxe/first-repository/blob/master/Flutter_quest/Quest04/04.ipynb\" target=\"_parent\"><img src=\"https://colab.research.google.com/assets/colab-badge.svg\" alt=\"Open In Colab\"/></a>"
      ]
    },
    {
      "cell_type": "markdown",
      "source": [
        "### 정보 구조 설계하기\n",
        "---\n",
        "![image](https://github.com/xunzxe/first-repository/assets/169735645/8b3ace08-9037-4077-baa3-9e696fcc17bd)\n",
        "\n",
        "### 와이어프레임 만들기\n",
        "---\n",
        "![image](https://github.com/xunzxe/first-repository/assets/169735645/530f846e-8e1b-4679-9224-e985fd5deea3)\n",
        "\n",
        "### 프로토타이핑 진행하기\n",
        "---\n",
        "![image](https://github.com/xunzxe/first-repository/assets/169735645/86bf301a-c6fd-404b-935d-951cd9233afb)\n"
      ],
      "metadata": {
        "id": "AaDo-2iM-jnF"
      }
    }
  ]
}